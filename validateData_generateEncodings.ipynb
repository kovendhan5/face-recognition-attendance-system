{
 "cells": [
  {
   "cell_type": "code",
   "execution_count": 1,
   "metadata": {},
   "outputs": [
    {
     "name": "stdout",
     "output_type": "stream",
     "text": [
      "Please install `face_recognition_models` with this command before using `face_recognition`:\n",
      "\n",
      "pip install git+https://github.com/ageitgey/face_recognition_models\n"
     ]
    },
    {
     "ename": "NameError",
     "evalue": "name 'quit' is not defined",
     "output_type": "error",
     "traceback": [
      "\u001b[1;31m---------------------------------------------------------------------------\u001b[0m",
      "\u001b[1;31mModuleNotFoundError\u001b[0m                       Traceback (most recent call last)",
      "File \u001b[1;32mk:\\New folder (2)\\face-recognition-attendance-system\\myenv\\Lib\\site-packages\\face_recognition\\api.py:9\u001b[0m\n\u001b[0;32m      8\u001b[0m \u001b[38;5;28;01mtry\u001b[39;00m:\n\u001b[1;32m----> 9\u001b[0m     \u001b[38;5;28;01mimport\u001b[39;00m \u001b[38;5;21;01mface_recognition_models\u001b[39;00m\n\u001b[0;32m     10\u001b[0m \u001b[38;5;28;01mexcept\u001b[39;00m \u001b[38;5;167;01mException\u001b[39;00m:\n",
      "File \u001b[1;32mk:\\New folder (2)\\face-recognition-attendance-system\\myenv\\Lib\\site-packages\\face_recognition_models\\__init__.py:7\u001b[0m\n\u001b[0;32m      5\u001b[0m __version__ \u001b[38;5;241m=\u001b[39m \u001b[38;5;124m'\u001b[39m\u001b[38;5;124m0.1.0\u001b[39m\u001b[38;5;124m'\u001b[39m\n\u001b[1;32m----> 7\u001b[0m \u001b[38;5;28;01mfrom\u001b[39;00m \u001b[38;5;21;01mpkg_resources\u001b[39;00m \u001b[38;5;28;01mimport\u001b[39;00m resource_filename\n\u001b[0;32m      9\u001b[0m \u001b[38;5;28;01mdef\u001b[39;00m \u001b[38;5;21mpose_predictor_model_location\u001b[39m():\n",
      "\u001b[1;31mModuleNotFoundError\u001b[0m: No module named 'pkg_resources'",
      "\nDuring handling of the above exception, another exception occurred:\n",
      "\u001b[1;31mNameError\u001b[0m                                 Traceback (most recent call last)",
      "Cell \u001b[1;32mIn[1], line 2\u001b[0m\n\u001b[0;32m      1\u001b[0m \u001b[38;5;28;01mimport\u001b[39;00m \u001b[38;5;21;01mos\u001b[39;00m \n\u001b[1;32m----> 2\u001b[0m \u001b[38;5;28;01mimport\u001b[39;00m \u001b[38;5;21;01mface_recognition\u001b[39;00m\n\u001b[0;32m      3\u001b[0m \u001b[38;5;28;01mimport\u001b[39;00m \u001b[38;5;21;01mmatplotlib\u001b[39;00m\u001b[38;5;21;01m.\u001b[39;00m\u001b[38;5;21;01mpyplot\u001b[39;00m \u001b[38;5;28;01mas\u001b[39;00m \u001b[38;5;21;01mplt\u001b[39;00m\n\u001b[0;32m      4\u001b[0m \u001b[38;5;28;01mimport\u001b[39;00m \u001b[38;5;21;01mcv2\u001b[39;00m\n",
      "File \u001b[1;32mk:\\New folder (2)\\face-recognition-attendance-system\\myenv\\Lib\\site-packages\\face_recognition\\__init__.py:7\u001b[0m\n\u001b[0;32m      4\u001b[0m __email__ \u001b[38;5;241m=\u001b[39m \u001b[38;5;124m'\u001b[39m\u001b[38;5;124mageitgey@gmail.com\u001b[39m\u001b[38;5;124m'\u001b[39m\n\u001b[0;32m      5\u001b[0m __version__ \u001b[38;5;241m=\u001b[39m \u001b[38;5;124m'\u001b[39m\u001b[38;5;124m1.2.3\u001b[39m\u001b[38;5;124m'\u001b[39m\n\u001b[1;32m----> 7\u001b[0m \u001b[38;5;28;01mfrom\u001b[39;00m \u001b[38;5;21;01m.\u001b[39;00m\u001b[38;5;21;01mapi\u001b[39;00m \u001b[38;5;28;01mimport\u001b[39;00m load_image_file, face_locations, batch_face_locations, face_landmarks, face_encodings, compare_faces, face_distance\n",
      "File \u001b[1;32mk:\\New folder (2)\\face-recognition-attendance-system\\myenv\\Lib\\site-packages\\face_recognition\\api.py:13\u001b[0m\n\u001b[0;32m     11\u001b[0m     \u001b[38;5;28mprint\u001b[39m(\u001b[38;5;124m\"\u001b[39m\u001b[38;5;124mPlease install `face_recognition_models` with this command before using `face_recognition`:\u001b[39m\u001b[38;5;130;01m\\n\u001b[39;00m\u001b[38;5;124m\"\u001b[39m)\n\u001b[0;32m     12\u001b[0m     \u001b[38;5;28mprint\u001b[39m(\u001b[38;5;124m\"\u001b[39m\u001b[38;5;124mpip install git+https://github.com/ageitgey/face_recognition_models\u001b[39m\u001b[38;5;124m\"\u001b[39m)\n\u001b[1;32m---> 13\u001b[0m     \u001b[43mquit\u001b[49m()\n\u001b[0;32m     15\u001b[0m ImageFile\u001b[38;5;241m.\u001b[39mLOAD_TRUNCATED_IMAGES \u001b[38;5;241m=\u001b[39m \u001b[38;5;28;01mTrue\u001b[39;00m\n\u001b[0;32m     17\u001b[0m face_detector \u001b[38;5;241m=\u001b[39m dlib\u001b[38;5;241m.\u001b[39mget_frontal_face_detector()\n",
      "\u001b[1;31mNameError\u001b[0m: name 'quit' is not defined"
     ]
    }
   ],
   "source": [
    "import os \n",
    "import face_recognition\n",
    "import matplotlib.pyplot as plt\n",
    "import cv2\n",
    "import pickle"
   ]
  },
  {
   "cell_type": "markdown",
   "metadata": {},
   "source": [
    "# Validating Images"
   ]
  },
  {
   "cell_type": "markdown",
   "metadata": {},
   "source": [
    "**It is better to validate the images to see if face is detected or not (only one face should be detected) in every face angle before generating encodings. Afer validations, we can generate encoding.**"
   ]
  },
  {
   "cell_type": "markdown",
   "metadata": {},
   "source": [
    "**Note: There should be 'to_encode_faces' folder in the directory where this notebook (validateData_generateEncodings.ipynb) is located. All the images to encode should be inside 'to_encode_faces' folder in following format:**\n",
    "\n",
    "```\n",
    "to_encode/\n",
    "├── <person_1_id>-<university>-<first_name>-<last_name>/\n",
    "│   ├── front.jpg\n",
    "│   ├── down.jpg\n",
    "│   ├── up.jpg\n",
    "│   ├── left.jpg\n",
    "│   └── right.jpg\n",
    "├── <person_2_id>-<university>-<first_name>-<last_name>/\n",
    "│   ├── front.jpg\n",
    "│   ├── down.jpg\n",
    "│   ├── up.jpg\n",
    "│   ├── left.jpg\n",
    "│   └── right.jpg\n",
    "├── <person_3_id>-<university>-<first_name>-<last_name>/\n",
    "│   ├── front.jpg\n",
    "│   ├── down.jpg\n",
    "│   ├── up.jpg\n",
    "│   ├── left.jpg\n",
    "│   └── right.jpg\n",
    "└── ...\n",
    "\n",
    "Don't keep < or > in the folder name! It is used to denote a variable which can have different values. \n",
    "The folder should be named like: 23140736-BCU-ABHASH-RAI\n",
    "```"
   ]
  },
  {
   "cell_type": "code",
   "execution_count": 7,
   "metadata": {},
   "outputs": [
    {
     "ename": "NameError",
     "evalue": "name 'cv2' is not defined",
     "output_type": "error",
     "traceback": [
      "\u001b[1;31m---------------------------------------------------------------------------\u001b[0m",
      "\u001b[1;31mNameError\u001b[0m                                 Traceback (most recent call last)",
      "Cell \u001b[1;32mIn[7], line 36\u001b[0m\n\u001b[0;32m     33\u001b[0m     \u001b[38;5;28;01melse\u001b[39;00m:\n\u001b[0;32m     34\u001b[0m         \u001b[38;5;28mprint\u001b[39m(\u001b[38;5;124m'\u001b[39m\u001b[38;5;130;01m\\n\u001b[39;00m\u001b[38;5;130;01m\\n\u001b[39;00m\u001b[38;5;124mCan detect a single face in every image. All good. Proceed to generating encodings.\u001b[39m\u001b[38;5;124m'\u001b[39m)\n\u001b[1;32m---> 36\u001b[0m \u001b[43mvalidate_images\u001b[49m\u001b[43m(\u001b[49m\u001b[38;5;124;43m\"\u001b[39;49m\u001b[38;5;124;43m./to_encode_faces\u001b[39;49m\u001b[38;5;124;43m\"\u001b[39;49m\u001b[43m)\u001b[49m\n",
      "Cell \u001b[1;32mIn[7], line 14\u001b[0m, in \u001b[0;36mvalidate_images\u001b[1;34m(images_to_encode_folder_path)\u001b[0m\n\u001b[0;32m     10\u001b[0m img_path \u001b[38;5;241m=\u001b[39m [filename \u001b[38;5;28;01mfor\u001b[39;00m filename \u001b[38;5;129;01min\u001b[39;00m all_files \u001b[38;5;28;01mif\u001b[39;00m filename\u001b[38;5;241m.\u001b[39mlower()\u001b[38;5;241m.\u001b[39mendswith((\u001b[38;5;124m'\u001b[39m\u001b[38;5;124m.jpg\u001b[39m\u001b[38;5;124m'\u001b[39m, \u001b[38;5;124m'\u001b[39m\u001b[38;5;124m.png\u001b[39m\u001b[38;5;124m'\u001b[39m, \u001b[38;5;124m'\u001b[39m\u001b[38;5;124m.jpeg\u001b[39m\u001b[38;5;124m'\u001b[39m, \u001b[38;5;124m'\u001b[39m\u001b[38;5;124m.gif\u001b[39m\u001b[38;5;124m'\u001b[39m, \u001b[38;5;124m'\u001b[39m\u001b[38;5;124m.bmp\u001b[39m\u001b[38;5;124m'\u001b[39m))] \u001b[38;5;66;03m# Filter for image files (e.g., .jpg, .png, .jpeg)\u001b[39;00m\n\u001b[0;32m     12\u001b[0m \u001b[38;5;28;01mfor\u001b[39;00m img \u001b[38;5;129;01min\u001b[39;00m img_path:\n\u001b[1;32m---> 14\u001b[0m     image \u001b[38;5;241m=\u001b[39m \u001b[43mcv2\u001b[49m\u001b[38;5;241m.\u001b[39mimread(\u001b[38;5;124mf\u001b[39m\u001b[38;5;124m'\u001b[39m\u001b[38;5;132;01m{\u001b[39;00mimages_to_encode_folder_path\u001b[38;5;132;01m}\u001b[39;00m\u001b[38;5;124m/\u001b[39m\u001b[38;5;132;01m{\u001b[39;00mfolder\u001b[38;5;132;01m}\u001b[39;00m\u001b[38;5;124m/\u001b[39m\u001b[38;5;132;01m{\u001b[39;00mimg\u001b[38;5;132;01m}\u001b[39;00m\u001b[38;5;124m'\u001b[39m)\n\u001b[0;32m     16\u001b[0m     \u001b[38;5;66;03m# Detect faces in the image\u001b[39;00m\n\u001b[0;32m     17\u001b[0m     face_locations \u001b[38;5;241m=\u001b[39m face_recognition\u001b[38;5;241m.\u001b[39mface_locations(image)\n",
      "\u001b[1;31mNameError\u001b[0m: name 'cv2' is not defined"
     ]
    }
   ],
   "source": [
    "def validate_images(images_to_encode_folder_path):\n",
    "\n",
    "    to_recapture = []\n",
    "\n",
    "    all_directories = os.listdir(images_to_encode_folder_path)\n",
    "\n",
    "    for folder in all_directories:\n",
    "\n",
    "        all_files = os.listdir(f'{images_to_encode_folder_path}/{folder}')\n",
    "        img_path = [filename for filename in all_files if filename.lower().endswith(('.jpg', '.png', '.jpeg', '.gif', '.bmp'))] # Filter for image files (e.g., .jpg, .png, .jpeg)\n",
    "        \n",
    "        for img in img_path:\n",
    "            \n",
    "            image = cv2.imread(f'{images_to_encode_folder_path}/{folder}/{img}')\n",
    "            \n",
    "            # Detect faces in the image\n",
    "            face_locations = face_recognition.face_locations(image)\n",
    "\n",
    "            current_img_path = f'{images_to_encode_folder_path}/{folder}/{img}'\n",
    "            \n",
    "            if len(face_locations) == 0:\n",
    "                print(f'* \"{current_img_path}\" - No Faces Detected! Bad!')\n",
    "                to_recapture.append(current_img_path)\n",
    "            elif len(face_locations) > 1:\n",
    "                print(f'* \"{current_img_path}\" - More than one Faces Detected! Bad!')\n",
    "                to_recapture.append(current_img_path)\n",
    "            elif len(face_locations) == 1:\n",
    "                print(f'\"{current_img_path}\" - Single face detected. Good.')\n",
    "\n",
    "    if len(to_recapture) != 0:           \n",
    "        print(f'\\n\\nThe below images either have multiple faces or cannot detect a face at all. Recapture the image of people given below to have detectable single face:')\n",
    "        print(to_recapture)\n",
    "    else:\n",
    "        print('\\n\\nCan detect a single face in every image. All good. Proceed to generating encodings.')\n",
    "\n",
    "validate_images(\"./to_encode_faces\")"
   ]
  },
  {
   "cell_type": "markdown",
   "metadata": {},
   "source": [
    "# Generate Face Encodings"
   ]
  },
  {
   "cell_type": "code",
   "execution_count": 4,
   "metadata": {},
   "outputs": [
    {
     "name": "stdout",
     "output_type": "stream",
     "text": [
      "Successfully generated face encodings of \"./photos/23140736-BCU-ABHASH-RAI/down.jpg\"\n",
      "Successfully generated face encodings of \"./photos/23140736-BCU-ABHASH-RAI/front.jpg\"\n",
      "Successfully generated face encodings of \"./photos/23140736-BCU-ABHASH-RAI/left.jpg\"\n",
      "Successfully generated face encodings of \"./photos/23140736-BCU-ABHASH-RAI/right.jpg\"\n",
      "Successfully generated face encodings of \"./photos/23140736-BCU-ABHASH-RAI/up.jpg\"\n",
      "Successfully generated face encodings of \"./photos/23140741-BCU-NANAK-SHRESTHA/down.jpg\"\n",
      "Successfully generated face encodings of \"./photos/23140741-BCU-NANAK-SHRESTHA/front.jpg\"\n",
      "Successfully generated face encodings of \"./photos/23140741-BCU-NANAK-SHRESTHA/left.jpg\"\n",
      "Successfully generated face encodings of \"./photos/23140741-BCU-NANAK-SHRESTHA/right.jpg\"\n",
      "Successfully generated face encodings of \"./photos/23140741-BCU-NANAK-SHRESTHA/up.jpg\"\n",
      "Successfully generated face encodings of \"./photos/23140745-BCU-SADIKSHYA-GHIMIRE/down.jpg\"\n",
      "Successfully generated face encodings of \"./photos/23140745-BCU-SADIKSHYA-GHIMIRE/front.jpg\"\n",
      "Successfully generated face encodings of \"./photos/23140745-BCU-SADIKSHYA-GHIMIRE/left.jpg\"\n",
      "Successfully generated face encodings of \"./photos/23140745-BCU-SADIKSHYA-GHIMIRE/right.jpg\"\n",
      "Successfully generated face encodings of \"./photos/23140745-BCU-SADIKSHYA-GHIMIRE/up.jpg\"\n",
      "Successfully generated face encodings of \"./photos/23140750-BCU-SUDEEP-FULLEL/down.jpg\"\n",
      "Successfully generated face encodings of \"./photos/23140750-BCU-SUDEEP-FULLEL/front.jpg\"\n",
      "Successfully generated face encodings of \"./photos/23140750-BCU-SUDEEP-FULLEL/left.jpg\"\n",
      "Successfully generated face encodings of \"./photos/23140750-BCU-SUDEEP-FULLEL/right.jpg\"\n",
      "Successfully generated face encodings of \"./photos/23140750-BCU-SUDEEP-FULLEL/up.jpg\"\n"
     ]
    }
   ],
   "source": [
    "\n",
    "def generate_encodings(images_to_encode_folder_path, path_to_store_encodings):\n",
    "\n",
    "    all_face_encodings = {}\n",
    "\n",
    "    all_directories = os.listdir(images_to_encode_folder_path)\n",
    "\n",
    "    for folder in all_directories:\n",
    "        \n",
    "        face_encodings = []\n",
    "\n",
    "        all_files = os.listdir(f'{images_to_encode_folder_path}/{folder}')\n",
    "        img_path = [filename for filename in all_files if filename.lower().endswith(('.jpg', '.png', '.jpeg', '.gif', '.bmp'))] # Filter for image files (e.g., .jpg, .png, .jpeg)\n",
    "        \n",
    "        for img in img_path:\n",
    "            image = face_recognition.api.load_image_file(f'{images_to_encode_folder_path}/{folder}/{img}')\n",
    "            encoding = face_recognition.api.face_encodings(image, model='large')\n",
    "            if len(encoding) == 1:\n",
    "                face_encodings.append(encoding[0])\n",
    "                print(f'Successfully generated face encodings of \"{images_to_encode_folder_path}/{folder}/{img}\"')\n",
    "            elif len(encoding) == 0:\n",
    "                print(f'No face detected in {images_to_encode_folder_path}/{folder}/{img}')\n",
    "                return\n",
    "            elif len(encoding) > 1:\n",
    "                print(f'More than one faces detected in {images_to_encode_folder_path}/{folder}/{img}')\n",
    "                return\n",
    "            \n",
    "        all_face_encodings[folder] = face_encodings\n",
    "        \n",
    "    with open(path_to_store_encodings, 'wb') as file:\n",
    "        pickle.dump(all_face_encodings, file)\n",
    "\n",
    "generate_encodings(\n",
    "    images_to_encode_folder_path = \"./to_encode_faces\",\n",
    "    path_to_store_encodings = './encodings/multiple_angles_faces_encodings'\n",
    ")"
   ]
  },
  {
   "cell_type": "code",
   "execution_count": 4,
   "metadata": {},
   "outputs": [
    {
     "name": "stdout",
     "output_type": "stream",
     "text": [
      "Successfully generated face encodings of \"./to_encode_faces/23140736-BCU-ABHASH-RAI/down.jpg\"\n",
      "Successfully generated face encodings of \"./to_encode_faces/23140736-BCU-ABHASH-RAI/front.jpg\"\n",
      "Successfully generated face encodings of \"./to_encode_faces/23140736-BCU-ABHASH-RAI/left.jpg\"\n",
      "Successfully generated face encodings of \"./to_encode_faces/23140736-BCU-ABHASH-RAI/right.jpg\"\n",
      "Successfully generated face encodings of \"./to_encode_faces/23140736-BCU-ABHASH-RAI/up.jpg\"\n",
      "Successfully generated face encodings of \"./to_encode_faces/23140741-BCU-NANAK-SHRESTHA/down.jpg\"\n",
      "Successfully generated face encodings of \"./to_encode_faces/23140741-BCU-NANAK-SHRESTHA/front.jpg\"\n",
      "Successfully generated face encodings of \"./to_encode_faces/23140741-BCU-NANAK-SHRESTHA/left.jpg\"\n",
      "Successfully generated face encodings of \"./to_encode_faces/23140741-BCU-NANAK-SHRESTHA/right.jpg\"\n",
      "Successfully generated face encodings of \"./to_encode_faces/23140741-BCU-NANAK-SHRESTHA/up.jpg\"\n",
      "Successfully generated face encodings of \"./to_encode_faces/23140745-BCU-SADIKSHYA-GHIMIRE/down.jpg\"\n",
      "Successfully generated face encodings of \"./to_encode_faces/23140745-BCU-SADIKSHYA-GHIMIRE/front.jpg\"\n",
      "Successfully generated face encodings of \"./to_encode_faces/23140745-BCU-SADIKSHYA-GHIMIRE/left.jpg\"\n",
      "Successfully generated face encodings of \"./to_encode_faces/23140745-BCU-SADIKSHYA-GHIMIRE/right.jpg\"\n",
      "Successfully generated face encodings of \"./to_encode_faces/23140745-BCU-SADIKSHYA-GHIMIRE/up.jpg\"\n",
      "Successfully generated face encodings of \"./to_encode_faces/23140750-BCU-SUDEEP-FULLEL/down.jpg\"\n",
      "Successfully generated face encodings of \"./to_encode_faces/23140750-BCU-SUDEEP-FULLEL/front.jpg\"\n",
      "Successfully generated face encodings of \"./to_encode_faces/23140750-BCU-SUDEEP-FULLEL/left.jpg\"\n",
      "Successfully generated face encodings of \"./to_encode_faces/23140750-BCU-SUDEEP-FULLEL/right.jpg\"\n",
      "Successfully generated face encodings of \"./to_encode_faces/23140750-BCU-SUDEEP-FULLEL/up.jpg\"\n"
     ]
    }
   ],
   "source": [
    "\n",
    "def generate_encodings(images_to_encode_folder_path, path_to_store_encodings):\n",
    "\n",
    "    all_face_encodings = {}\n",
    "\n",
    "    all_directories = os.listdir(images_to_encode_folder_path)\n",
    "\n",
    "    for folder in all_directories:\n",
    "        \n",
    "        face_encodings = []\n",
    "\n",
    "        all_files = os.listdir(f'{images_to_encode_folder_path}/{folder}')\n",
    "        img_path = [filename for filename in all_files if filename.lower().endswith(('.jpg', '.png', '.jpeg', '.gif', '.bmp'))] # Filter for image files (e.g., .jpg, .png, .jpeg)\n",
    "        \n",
    "        for img in img_path:\n",
    "            image = face_recognition.api.load_image_file(f'{images_to_encode_folder_path}/{folder}/{img}')\n",
    "            encoding = face_recognition.api.face_encodings(image, model='large')\n",
    "            if len(encoding) == 1:\n",
    "                face_encodings.append(encoding[0])\n",
    "                print(f'Successfully generated face encodings of \"{images_to_encode_folder_path}/{folder}/{img}\"')\n",
    "            elif len(encoding) == 0:\n",
    "                print(f'No face detected in {images_to_encode_folder_path}/{folder}/{img}')\n",
    "                return\n",
    "            elif len(encoding) > 1:\n",
    "                print(f'More than one faces detected in {images_to_encode_folder_path}/{folder}/{img}')\n",
    "                return\n",
    "            \n",
    "        all_face_encodings[folder] = face_encodings\n",
    "        \n",
    "    with open(path_to_store_encodings, 'wb') as file:\n",
    "        pickle.dump(all_face_encodings, file)\n",
    "\n",
    "generate_encodings(\n",
    "    images_to_encode_folder_path = \"./to_encode_faces\",\n",
    "    path_to_store_encodings = './encodings/multiple_angles_faces_encodings'\n",
    ")"
   ]
  },
  {
   "cell_type": "code",
   "execution_count": null,
   "metadata": {},
   "outputs": [],
   "source": []
  },
  {
   "cell_type": "code",
   "execution_count": null,
   "metadata": {},
   "outputs": [
    {
     "name": "stdout",
     "output_type": "stream",
     "text": [
      "Please install `face_recognition_models` with this command before using `face_recognition`:\n",
      "\n",
      "pip install git+https://github.com/ageitgey/face_recognition_models\n"
     ]
    },
    {
     "ename": "NameError",
     "evalue": "name 'quit' is not defined",
     "output_type": "error",
     "traceback": [
      "\u001b[1;31m---------------------------------------------------------------------------\u001b[0m",
      "\u001b[1;31mModuleNotFoundError\u001b[0m                       Traceback (most recent call last)",
      "File \u001b[1;32mk:\\New folder (2)\\face-recognition-attendance-system\\myenv\\Lib\\site-packages\\face_recognition\\api.py:9\u001b[0m\n\u001b[0;32m      8\u001b[0m \u001b[38;5;28;01mtry\u001b[39;00m:\n\u001b[1;32m----> 9\u001b[0m     \u001b[38;5;28;01mimport\u001b[39;00m \u001b[38;5;21;01mface_recognition_models\u001b[39;00m\n\u001b[0;32m     10\u001b[0m \u001b[38;5;28;01mexcept\u001b[39;00m \u001b[38;5;167;01mException\u001b[39;00m:\n",
      "File \u001b[1;32mk:\\New folder (2)\\face-recognition-attendance-system\\myenv\\Lib\\site-packages\\face_recognition_models\\__init__.py:7\u001b[0m\n\u001b[0;32m      5\u001b[0m __version__ \u001b[38;5;241m=\u001b[39m \u001b[38;5;124m'\u001b[39m\u001b[38;5;124m0.1.0\u001b[39m\u001b[38;5;124m'\u001b[39m\n\u001b[1;32m----> 7\u001b[0m \u001b[38;5;28;01mfrom\u001b[39;00m \u001b[38;5;21;01mpkg_resources\u001b[39;00m \u001b[38;5;28;01mimport\u001b[39;00m resource_filename\n\u001b[0;32m      9\u001b[0m \u001b[38;5;28;01mdef\u001b[39;00m \u001b[38;5;21mpose_predictor_model_location\u001b[39m():\n",
      "\u001b[1;31mModuleNotFoundError\u001b[0m: No module named 'pkg_resources'",
      "\nDuring handling of the above exception, another exception occurred:\n",
      "\u001b[1;31mNameError\u001b[0m                                 Traceback (most recent call last)",
      "Cell \u001b[1;32mIn[8], line 2\u001b[0m\n\u001b[0;32m      1\u001b[0m \u001b[38;5;28;01mimport\u001b[39;00m \u001b[38;5;21;01mos\u001b[39;00m\n\u001b[1;32m----> 2\u001b[0m \u001b[38;5;28;01mimport\u001b[39;00m \u001b[38;5;21;01mface_recognition\u001b[39;00m\n\u001b[0;32m      3\u001b[0m \u001b[38;5;28;01mimport\u001b[39;00m \u001b[38;5;21;01mmatplotlib\u001b[39;00m\u001b[38;5;21;01m.\u001b[39;00m\u001b[38;5;21;01mpyplot\u001b[39;00m \u001b[38;5;28;01mas\u001b[39;00m \u001b[38;5;21;01mplt\u001b[39;00m\n\u001b[0;32m      4\u001b[0m \u001b[38;5;28;01mimport\u001b[39;00m \u001b[38;5;21;01mcv2\u001b[39;00m\n",
      "File \u001b[1;32mk:\\New folder (2)\\face-recognition-attendance-system\\myenv\\Lib\\site-packages\\face_recognition\\__init__.py:7\u001b[0m\n\u001b[0;32m      4\u001b[0m __email__ \u001b[38;5;241m=\u001b[39m \u001b[38;5;124m'\u001b[39m\u001b[38;5;124mageitgey@gmail.com\u001b[39m\u001b[38;5;124m'\u001b[39m\n\u001b[0;32m      5\u001b[0m __version__ \u001b[38;5;241m=\u001b[39m \u001b[38;5;124m'\u001b[39m\u001b[38;5;124m1.2.3\u001b[39m\u001b[38;5;124m'\u001b[39m\n\u001b[1;32m----> 7\u001b[0m \u001b[38;5;28;01mfrom\u001b[39;00m \u001b[38;5;21;01m.\u001b[39;00m\u001b[38;5;21;01mapi\u001b[39;00m \u001b[38;5;28;01mimport\u001b[39;00m load_image_file, face_locations, batch_face_locations, face_landmarks, face_encodings, compare_faces, face_distance\n",
      "File \u001b[1;32mk:\\New folder (2)\\face-recognition-attendance-system\\myenv\\Lib\\site-packages\\face_recognition\\api.py:13\u001b[0m\n\u001b[0;32m     11\u001b[0m     \u001b[38;5;28mprint\u001b[39m(\u001b[38;5;124m\"\u001b[39m\u001b[38;5;124mPlease install `face_recognition_models` with this command before using `face_recognition`:\u001b[39m\u001b[38;5;130;01m\\n\u001b[39;00m\u001b[38;5;124m\"\u001b[39m)\n\u001b[0;32m     12\u001b[0m     \u001b[38;5;28mprint\u001b[39m(\u001b[38;5;124m\"\u001b[39m\u001b[38;5;124mpip install git+https://github.com/ageitgey/face_recognition_models\u001b[39m\u001b[38;5;124m\"\u001b[39m)\n\u001b[1;32m---> 13\u001b[0m     \u001b[43mquit\u001b[49m()\n\u001b[0;32m     15\u001b[0m ImageFile\u001b[38;5;241m.\u001b[39mLOAD_TRUNCATED_IMAGES \u001b[38;5;241m=\u001b[39m \u001b[38;5;28;01mTrue\u001b[39;00m\n\u001b[0;32m     17\u001b[0m face_detector \u001b[38;5;241m=\u001b[39m dlib\u001b[38;5;241m.\u001b[39mget_frontal_face_detector()\n",
      "\u001b[1;31mNameError\u001b[0m: name 'quit' is not defined"
     ]
    }
   ],
   "source": [
    "import os\n",
    "import face_recognition\n",
    "import matplotlib.pyplot as plt\n",
    "import cv2\n",
    "import pickle\n",
    "import sys\n",
    "\n",
    "try:\n",
    "    import face_recognition_models\n",
    "except ImportError:\n",
    "    print(\"Please install `face_recognition_models` with this command before using `face_recognition`:\\n\")\n",
    "    print(\"pip install git+https://github.com/ageitgey/face_recognition_models\")\n",
    "    sys.exit()\n",
    "\n",
    "# Rest of your script here\n",
    "\n",
    "# Example usage (you can remove this section if not needed):\n",
    "try:\n",
    "    ImageFile.LOAD_TRUNCATED_IMAGES = True\n",
    "    face_detector = dlib.get_frontal_face_detector()\n",
    "except Exception as e:\n",
    "    print(f\"An error occurred: {e}\")\n",
    "    sys.exit()\n"
   ]
  }
 ],
 "metadata": {
  "kernelspec": {
   "display_name": "myenv",
   "language": "python",
   "name": "python3"
  },
  "language_info": {
   "codemirror_mode": {
    "name": "ipython",
    "version": 3
   },
   "file_extension": ".py",
   "mimetype": "text/x-python",
   "name": "python",
   "nbconvert_exporter": "python",
   "pygments_lexer": "ipython3",
   "version": "3.12.7"
  },
  "orig_nbformat": 4
 },
 "nbformat": 4,
 "nbformat_minor": 2
}
